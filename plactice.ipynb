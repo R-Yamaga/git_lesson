{
 "cells": [
  {
   "cell_type": "code",
   "execution_count": 2,
   "metadata": {},
   "outputs": [
    {
     "name": "stdout",
     "output_type": "stream",
     "text": [
      "{'base': 'stations',\n",
      " 'clouds': {'all': 0},\n",
      " 'cod': 200,\n",
      " 'coord': {'lat': 35.6895, 'lon': 139.6917},\n",
      " 'dt': 1613797212,\n",
      " 'id': 1850144,\n",
      " 'main': {'feels_like': 9.68,\n",
      "          'humidity': 31,\n",
      "          'pressure': 1004,\n",
      "          'temp': 16.77,\n",
      "          'temp_max': 17.22,\n",
      "          'temp_min': 16},\n",
      " 'name': '東京都',\n",
      " 'sys': {'country': 'JP',\n",
      "         'id': 8077,\n",
      "         'sunrise': 1613769781,\n",
      "         'sunset': 1613809638,\n",
      "         'type': 1},\n",
      " 'timezone': 32400,\n",
      " 'visibility': 10000,\n",
      " 'weather': [{'description': '晴天', 'icon': '01d', 'id': 800, 'main': 'Clear'}],\n",
      " 'wind': {'deg': 240, 'gust': 12.35, 'speed': 7.2}}\n"
     ]
    }
   ],
   "source": [
    "import requests\n",
    "import json\n",
    "from pprint import pprint\n",
    "\n",
    "API_KEY = \"de0493ad02b5f68f7866c1ea3a8819e4\"\n",
    "BASE_URL = \"http://api.openweathermap.org/data/2.5/weather?units=metric&lang=ja\"\n",
    "city = \"Tokyo,jp\"\n",
    "\n",
    "response = requests.get(BASE_URL + \"&q={}&APPID={}\".format(city, API_KEY))\n",
    "weather_data = json.loads(response.text)\n",
    "pprint(weather_data)"
   ]
  },
  {
   "cell_type": "code",
   "execution_count": 16,
   "metadata": {},
   "outputs": [],
   "source": [
    "city_name = weather_data['name']"
   ]
  },
  {
   "cell_type": "code",
   "execution_count": 23,
   "metadata": {},
   "outputs": [
    {
     "data": {
      "text/plain": [
       "[{'id': 800, 'main': 'Clear', 'description': '晴天', 'icon': '01d'}]"
      ]
     },
     "execution_count": 23,
     "metadata": {},
     "output_type": "execute_result"
    }
   ],
   "source": [
    "weather_data['weather']"
   ]
  },
  {
   "cell_type": "code",
   "execution_count": 33,
   "metadata": {},
   "outputs": [],
   "source": [
    "weather = weather_data['weather'][0]"
   ]
  },
  {
   "cell_type": "code",
   "execution_count": 34,
   "metadata": {},
   "outputs": [
    {
     "data": {
      "text/plain": [
       "800"
      ]
     },
     "execution_count": 34,
     "metadata": {},
     "output_type": "execute_result"
    }
   ],
   "source": [
    "weather['id']"
   ]
  },
  {
   "cell_type": "code",
   "execution_count": 35,
   "metadata": {},
   "outputs": [],
   "source": [
    "city_weather = weather_data['weather'][0]['description']"
   ]
  },
  {
   "cell_type": "code",
   "execution_count": 36,
   "metadata": {},
   "outputs": [],
   "source": [
    "result = \"{}の天気は{}です\".format(city_name, city_weather)"
   ]
  },
  {
   "cell_type": "code",
   "execution_count": 37,
   "metadata": {},
   "outputs": [
    {
     "name": "stdout",
     "output_type": "stream",
     "text": [
      "東京都の天気は晴天です\n"
     ]
    }
   ],
   "source": [
    "print(result)"
   ]
  },
  {
   "cell_type": "code",
   "execution_count": null,
   "metadata": {},
   "outputs": [],
   "source": []
  }
 ],
 "metadata": {
  "kernelspec": {
   "display_name": "Python 3",
   "language": "python",
   "name": "python3"
  },
  "language_info": {
   "codemirror_mode": {
    "name": "ipython",
    "version": 3
   },
   "file_extension": ".py",
   "mimetype": "text/x-python",
   "name": "python",
   "nbconvert_exporter": "python",
   "pygments_lexer": "ipython3",
   "version": "3.8.5"
  }
 },
 "nbformat": 4,
 "nbformat_minor": 4
}
